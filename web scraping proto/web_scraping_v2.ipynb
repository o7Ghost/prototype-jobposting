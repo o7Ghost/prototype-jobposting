{
 "cells": [
  {
   "cell_type": "code",
   "execution_count": 163,
   "metadata": {
    "collapsed": true
   },
   "outputs": [],
   "source": [
    "import requests, time, random\n",
    "from bs4 import BeautifulSoup\n",
    "from selenium import webdriver\n",
    "import re\n",
    "from selenium.webdriver.common.keys import Keys"
   ]
  },
  {
   "cell_type": "code",
   "execution_count": 164,
   "metadata": {
    "collapsed": true
   },
   "outputs": [],
   "source": [
    "browser = webdriver.Chrome('/Users/joseph/Desktop/driver/chromedriver')\n",
    "browser.get('https://www.linkedin.com/uas/login')\n",
    "file = open('/Users/joseph/Desktop/driver/config.txt')\n",
    "lines = file.readlines()\n",
    "username = lines[0].rstrip()\n",
    "password = lines[1].rstrip()\n",
    "\n",
    "elementID = browser.find_element_by_id('username')\n",
    "elementID.send_keys(username)\n",
    "\n",
    "elementID = browser.find_element_by_id('password')\n",
    "elementID.send_keys(password)\n",
    "\n",
    "elementID.submit()"
   ]
  },
  {
   "cell_type": "code",
   "execution_count": 165,
   "metadata": {
    "collapsed": true
   },
   "outputs": [],
   "source": [
    "link = 'https://www.linkedin.com/search/results/all/?keywords=new%20grad&origin=GLOBAL_SEARCH_HEADER'\n",
    "browser.get(link)"
   ]
  },
  {
   "cell_type": "code",
   "execution_count": 166,
   "metadata": {
    "collapsed": true
   },
   "outputs": [],
   "source": [
    "all_links = []\n",
    "unique_id = set()\n",
    "\n",
    "for x in range(100):\n",
    "\n",
    "    for i in range(5):\n",
    "        # Scroll page down\n",
    "        browser.find_element_by_tag_name('body').send_keys(Keys.END)\n",
    "        time.sleep(2)\n",
    "        \n",
    "    src = browser.page_source\n",
    "    soup = BeautifulSoup(src, 'lxml')\n",
    "    array_links = [a['href'] for a in soup.find_all('a', href=True)]\n",
    "    \n",
    "    for list in array_links:\n",
    "        if (list.find('/jobs/view/') != -1):\n",
    "            result = re.search('/jobs/view/(.*)/',list)\n",
    "            if (result.group(1) not in unique_id):\n",
    "                unique_id.add(result.group(1))\n",
    "                all_links.append(list)\n",
    "                \n",
    "    element = browser.find_elements_by_css_selector(\"[aria-label=Next]\")\n",
    "    element[0].click()"
   ]
  },
  {
   "cell_type": "code",
   "execution_count": 167,
   "metadata": {
    "collapsed": true
   },
   "outputs": [],
   "source": [
    "for index, link in enumerate(all_links):\n",
    "    all_links[index] = 'https://www.linkedin.com' + all_links[index]"
   ]
  },
  {
   "cell_type": "code",
   "execution_count": 168,
   "metadata": {
    "collapsed": true
   },
   "outputs": [],
   "source": [
    "import json\n",
    "with open('info.json', 'w') as f:\n",
    "    link = {\n",
    "        'link' : all_links\n",
    "    }\n",
    "    json.dump(link,f)"
   ]
  },
  {
   "cell_type": "code",
   "execution_count": 169,
   "metadata": {},
   "outputs": [
    {
     "data": {
      "text/plain": [
       "990"
      ]
     },
     "execution_count": 169,
     "metadata": {},
     "output_type": "execute_result"
    }
   ],
   "source": [
    "len(all_links)"
   ]
  },
  {
   "cell_type": "code",
   "execution_count": 170,
   "metadata": {
    "collapsed": true
   },
   "outputs": [],
   "source": [
    "import json\n",
    "with open('info.json', 'r') as f:\n",
    "    p = json.load(f)"
   ]
  },
  {
   "cell_type": "code",
   "execution_count": 171,
   "metadata": {
    "collapsed": true
   },
   "outputs": [],
   "source": [
    "all_links = p.get(\"link\",\"\")"
   ]
  },
  {
   "cell_type": "code",
   "execution_count": 172,
   "metadata": {
    "collapsed": true
   },
   "outputs": [],
   "source": [
    "class jobPostInfo:\n",
    "    def __init__(instance, job_title, location, company, body_text):\n",
    "        instance.job_title = job_title\n",
    "        instance.location = location\n",
    "        instance.company = company\n",
    "        instance.body_text = body_text"
   ]
  },
  {
   "cell_type": "code",
   "execution_count": 187,
   "metadata": {},
   "outputs": [
    {
     "ename": "IndexError",
     "evalue": "list index out of range",
     "output_type": "error",
     "traceback": [
      "\u001b[0;31m---------------------------------------------------------------------------\u001b[0m",
      "\u001b[0;31mIndexError\u001b[0m                                Traceback (most recent call last)",
      "\u001b[0;32m<ipython-input-187-e39abcf0fece>\u001b[0m in \u001b[0;36m<module>\u001b[0;34m()\u001b[0m\n\u001b[1;32m      7\u001b[0m     \u001b[0msoup\u001b[0m \u001b[0;34m=\u001b[0m \u001b[0mBeautifulSoup\u001b[0m\u001b[0;34m(\u001b[0m\u001b[0msrc\u001b[0m\u001b[0;34m,\u001b[0m \u001b[0;34m'lxml'\u001b[0m\u001b[0;34m)\u001b[0m\u001b[0;34m\u001b[0m\u001b[0m\n\u001b[1;32m      8\u001b[0m     \u001b[0mlocation\u001b[0m \u001b[0;34m=\u001b[0m \u001b[0;34m\"\"\u001b[0m\u001b[0;34m\u001b[0m\u001b[0m\n\u001b[0;32m----> 9\u001b[0;31m     \u001b[0mjob_title\u001b[0m \u001b[0;34m=\u001b[0m \u001b[0mstr\u001b[0m\u001b[0;34m(\u001b[0m\u001b[0msoup\u001b[0m\u001b[0;34m.\u001b[0m\u001b[0mfind_all\u001b[0m\u001b[0;34m(\u001b[0m\u001b[0;34m\"h1\"\u001b[0m\u001b[0;34m,\u001b[0m \u001b[0;34m{\u001b[0m\u001b[0;34m\"class\"\u001b[0m \u001b[0;34m:\u001b[0m \u001b[0;34m\"jobs-top-card__job-title t-24\"\u001b[0m\u001b[0;34m}\u001b[0m\u001b[0;34m,\u001b[0m \u001b[0mtext\u001b[0m \u001b[0;34m=\u001b[0m \u001b[0;32mTrue\u001b[0m\u001b[0;34m)\u001b[0m\u001b[0;34m[\u001b[0m\u001b[0;36m0\u001b[0m\u001b[0;34m]\u001b[0m\u001b[0;34m.\u001b[0m\u001b[0mtext\u001b[0m\u001b[0;34m)\u001b[0m\u001b[0;34m\u001b[0m\u001b[0m\n\u001b[0m\u001b[1;32m     10\u001b[0m     \u001b[0mlocationList\u001b[0m \u001b[0;34m=\u001b[0m \u001b[0msoup\u001b[0m\u001b[0;34m.\u001b[0m\u001b[0mfind_all\u001b[0m\u001b[0;34m(\u001b[0m\u001b[0;34m\"span\"\u001b[0m\u001b[0;34m,\u001b[0m \u001b[0;34m{\u001b[0m\u001b[0;34m\"class\"\u001b[0m \u001b[0;34m:\u001b[0m \u001b[0;34m\"jobs-top-card__bullet\"\u001b[0m\u001b[0;34m}\u001b[0m\u001b[0;34m,\u001b[0m\u001b[0mtext\u001b[0m \u001b[0;34m=\u001b[0m \u001b[0;32mTrue\u001b[0m\u001b[0;34m)\u001b[0m\u001b[0;34m\u001b[0m\u001b[0m\n\u001b[1;32m     11\u001b[0m     \u001b[0;32mif\u001b[0m \u001b[0mlen\u001b[0m\u001b[0;34m(\u001b[0m\u001b[0mlocationList\u001b[0m\u001b[0;34m)\u001b[0m \u001b[0;34m>\u001b[0m \u001b[0;36m0\u001b[0m\u001b[0;34m:\u001b[0m\u001b[0;34m\u001b[0m\u001b[0m\n",
      "\u001b[0;31mIndexError\u001b[0m: list index out of range"
     ]
    }
   ],
   "source": [
    "company_text = []\n",
    "for list in all_links:\n",
    "    l = list\n",
    "    browser.get(l)\n",
    "\n",
    "    src = browser.page_source\n",
    "    soup = BeautifulSoup(src, 'lxml')\n",
    "    location = \"\"\n",
    "    job_title = str(soup.find_all(\"h1\", {\"class\" : \"jobs-top-card__job-title t-24\"}, text = True)[0].text)\n",
    "    locationList = soup.find_all(\"span\", {\"class\" : \"jobs-top-card__bullet\"},text = True)\n",
    "    if len(locationList) > 0:\n",
    "        location = str(soup.find_all(\"span\", {\"class\" : \"jobs-top-card__bullet\"}, text = True)[0].text)\n",
    "    elif len(locationList) == 0:\n",
    "        location = str(soup.find_all(\"a\", {\"class\" : \"jobs-top-card__exact-location t-black--light link-without-visited-state\"}, text = True)[0].text)\n",
    "    else:\n",
    "        location = \"not found\"\n",
    "        \n",
    "    company = soup.find_all(\"a\", {\"data-control-name\" : \"company_link\"}, text = True)\n",
    "    if len(company) > 0:\n",
    "        company = str(soup.find_all(\"a\", {\"data-control-name\" : \"company_link\"}, text = True)[0].text)\n",
    "    elif len(company) == 0:\n",
    "        company = soup.find_all(\"span\", {\"class\" : \"a11y-text\"})[0].nextSibling.strip()\n",
    "    else:\n",
    "        company = \"location not found\"\n",
    "        \n",
    "    test_stuff = soup.find('article').find('span')\n",
    "    location = location.strip('\\n').strip()\n",
    "    company = company.strip('\\n').strip()\n",
    "    jobclass = jobPostInfo(job_title, location, company, test_stuff)\n",
    "    company_text.append(jobclass)"
   ]
  },
  {
   "cell_type": "code",
   "execution_count": 188,
   "metadata": {},
   "outputs": [
    {
     "data": {
      "text/plain": [
       "342"
      ]
     },
     "execution_count": 188,
     "metadata": {},
     "output_type": "execute_result"
    }
   ],
   "source": [
    "len(company_text)"
   ]
  },
  {
   "cell_type": "code",
   "execution_count": 175,
   "metadata": {
    "collapsed": true
   },
   "outputs": [],
   "source": [
    "for companies in company_text:\n",
    "    companies.body_text = companies.body_text.text"
   ]
  },
  {
   "cell_type": "code",
   "execution_count": 176,
   "metadata": {
    "collapsed": true
   },
   "outputs": [],
   "source": [
    "file_arry = []\n",
    "with open('company_info.json', 'w') as f:\n",
    "    for ob in company_text:\n",
    "        file_arry.append(ob.__dict__ )\n",
    "    json.dump(file_arry,f)"
   ]
  },
  {
   "cell_type": "code",
   "execution_count": 184,
   "metadata": {
    "collapsed": true
   },
   "outputs": [],
   "source": [
    "all_links.remove(all_links[520])"
   ]
  },
  {
   "cell_type": "code",
   "execution_count": null,
   "metadata": {},
   "outputs": [],
   "source": []
  },
  {
   "cell_type": "code",
   "execution_count": null,
   "metadata": {},
   "outputs": [],
   "source": []
  },
  {
   "cell_type": "code",
   "execution_count": null,
   "metadata": {
    "collapsed": true
   },
   "outputs": [],
   "source": []
  }
 ],
 "metadata": {
  "kernelspec": {
   "display_name": "Python 3",
   "language": "python",
   "name": "python3"
  },
  "language_info": {
   "codemirror_mode": {
    "name": "ipython",
    "version": 3
   },
   "file_extension": ".py",
   "mimetype": "text/x-python",
   "name": "python",
   "nbconvert_exporter": "python",
   "pygments_lexer": "ipython3",
   "version": "3.6.3"
  }
 },
 "nbformat": 4,
 "nbformat_minor": 2
}
