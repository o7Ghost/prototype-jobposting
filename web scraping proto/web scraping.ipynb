{
 "cells": [
  {
   "cell_type": "code",
   "execution_count": 90,
   "metadata": {
    "collapsed": true
   },
   "outputs": [],
   "source": [
    "import requests, time, random\n",
    "from bs4 import BeautifulSoup\n",
    "from selenium import webdriver\n",
    "import re\n",
    "from selenium.webdriver.common.keys import Keys"
   ]
  },
  {
   "cell_type": "code",
   "execution_count": 94,
   "metadata": {
    "collapsed": true
   },
   "outputs": [],
   "source": [
    "browser = webdriver.Chrome('/Users/joseph/Desktop/driver/chromedriver')\n",
    "browser.get('https://www.linkedin.com/uas/login')\n",
    "file = open('/Users/joseph/Desktop/driver/config.txt')\n",
    "lines = file.readlines()\n",
    "username = lines[0].rstrip()\n",
    "password = lines[1].rstrip()\n",
    "\n",
    "elementID = browser.find_element_by_id('username')\n",
    "elementID.send_keys(username)\n",
    "\n",
    "elementID = browser.find_element_by_id('password')\n",
    "elementID.send_keys(password)\n",
    "\n",
    "elementID.submit()"
   ]
  },
  {
   "cell_type": "code",
   "execution_count": 95,
   "metadata": {},
   "outputs": [],
   "source": [
    "link = 'https://www.linkedin.com/jobs/search/?geoId=103644278&keywords=(new%20grad)&location=United%20States'\n",
    "browser.get(link)"
   ]
  },
  {
   "cell_type": "code",
   "execution_count": 96,
   "metadata": {},
   "outputs": [],
   "source": [
    "browser.find_element_by_xpath(\"//*[@id='ember4']/div[4]/div[3]/section[1]/div[2]/div/div/div[1]\").click()\n",
    "for i in range(5):\n",
    "    # Scroll page down\n",
    "    browser.find_element_by_tag_name('body').send_keys(Keys.END)\n",
    "    time.sleep(2)"
   ]
  },
  {
   "cell_type": "code",
   "execution_count": 97,
   "metadata": {
    "collapsed": true
   },
   "outputs": [],
   "source": [
    "src = browser.page_source\n",
    "soup = BeautifulSoup(src, 'lxml')"
   ]
  },
  {
   "cell_type": "markdown",
   "metadata": {},
   "source": [
    "soup"
   ]
  },
  {
   "cell_type": "code",
   "execution_count": 98,
   "metadata": {
    "collapsed": true
   },
   "outputs": [],
   "source": [
    "array_links = [a['href'] for a in soup.find_all('a', href=True)]\n",
    "\n",
    "#array_links = [a for a in soup.find_all('a', href=True)]\n"
   ]
  },
  {
   "cell_type": "code",
   "execution_count": 99,
   "metadata": {},
   "outputs": [
    {
     "data": {
      "text/plain": [
       "105"
      ]
     },
     "execution_count": 99,
     "metadata": {},
     "output_type": "execute_result"
    }
   ],
   "source": [
    "len(array_links)"
   ]
  },
  {
   "cell_type": "code",
   "execution_count": 100,
   "metadata": {
    "collapsed": true
   },
   "outputs": [],
   "source": [
    "all_links = []\n",
    "unique_id = set()\n",
    "    \n",
    "for list in array_links:\n",
    "    if (list.find('/jobs/view/') != -1):\n",
    "        result = re.search('/jobs/view/(.*)/',list)\n",
    "        if (result.group(1) not in unique_id):\n",
    "            unique_id.add(result.group(1))\n",
    "            all_links.append(list)"
   ]
  },
  {
   "cell_type": "code",
   "execution_count": null,
   "metadata": {
    "collapsed": true
   },
   "outputs": [],
   "source": []
  },
  {
   "cell_type": "code",
   "execution_count": 101,
   "metadata": {},
   "outputs": [
    {
     "data": {
      "text/plain": [
       "22"
      ]
     },
     "execution_count": 101,
     "metadata": {},
     "output_type": "execute_result"
    }
   ],
   "source": [
    "len(all_links)"
   ]
  },
  {
   "cell_type": "code",
   "execution_count": 102,
   "metadata": {
    "collapsed": true
   },
   "outputs": [],
   "source": [
    "for index, link in enumerate(all_links):\n",
    "    all_links[index] = 'https://www.linkedin.com' + all_links[index]"
   ]
  },
  {
   "cell_type": "code",
   "execution_count": 103,
   "metadata": {},
   "outputs": [],
   "source": [
    "class jobPostInfo:\n",
    "    def __init__(instance, job_title, location, company, body_text):\n",
    "        instance.job_title = job_title\n",
    "        instance.location = location\n",
    "        instance.company = company\n",
    "        instance.body_text = body_text"
   ]
  },
  {
   "cell_type": "code",
   "execution_count": 104,
   "metadata": {},
   "outputs": [],
   "source": [
    "company_text = []\n",
    "for list in all_links:\n",
    "    l = list\n",
    "    browser.get(l)\n",
    "#     SCROLL_PAUSE_TIME = 5\n",
    "\n",
    "#     # Get scroll height\n",
    "#     last_height = browser.execute_script(\"return document.body.scrollHeight\")\n",
    "\n",
    "#     for i in range(3):\n",
    "#         # Scroll down to bottom\n",
    "#         browser.execute_script(\"window.scrollTo(0, document.body.scrollHeight);\")\n",
    "\n",
    "#         # Wait to load page\n",
    "#         time.sleep(SCROLL_PAUSE_TIME)\n",
    "\n",
    "#         # Calculate new scroll height and compare with last scroll height\n",
    "#         new_height = browser.execute_script(\"return document.body.scrollHeight\")\n",
    "#         if new_height == last_height:\n",
    "#             break\n",
    "#         last_height = new_height\n",
    "        \n",
    "    src = browser.page_source\n",
    "    soup = BeautifulSoup(src, 'lxml')\n",
    "    location = \"\"\n",
    "    job_title = str(soup.find_all(\"h1\", {\"class\" : \"jobs-top-card__job-title t-24\"}, text = True)[0].text)\n",
    "    locationList = soup.find_all(\"span\", {\"class\" : \"jobs-top-card__bullet\"},text = True)\n",
    "    if len(locationList) > 0:\n",
    "        location = str(soup.find_all(\"span\", {\"class\" : \"jobs-top-card__bullet\"}, text = True)[0].text)\n",
    "    elif len(locationList) == 0:\n",
    "        location = str(soup.find_all(\"a\", {\"class\" : \"jobs-top-card__exact-location t-black--light link-without-visited-state\"}, text = True)[0].text)\n",
    "    else:\n",
    "        location = \"not found\"\n",
    "    company = str(soup.find_all(\"a\", {\"data-control-name\" : \"company_link\"}, text = True)[0].text)\n",
    "    test_stuff = soup.find('article').find('span')\n",
    "    location = location.strip('\\n').strip()\n",
    "    company = company.strip('\\n').strip()\n",
    "    jobclass = jobPostInfo(job_title, location, company, test_stuff)\n",
    "    company_text.append(jobclass)"
   ]
  },
  {
   "cell_type": "code",
   "execution_count": 105,
   "metadata": {},
   "outputs": [
    {
     "name": "stdout",
     "output_type": "stream",
     "text": [
      "Conversant\n",
      "Oscar Health\n",
      "Dropbox\n",
      "Conversant\n",
      "Snap Inc.\n",
      "Clutter\n",
      "Blend\n",
      "Figma\n",
      "Salesforce\n",
      "Facebook\n",
      "Cockroach Labs\n",
      "VMware\n",
      "VMware\n",
      "Lime\n",
      "VMware\n",
      "Coinbase\n",
      "Conversant\n",
      "Lyft\n",
      "VMware\n",
      "Amplitude\n",
      "VMware\n",
      "Conversant\n"
     ]
    }
   ],
   "source": [
    "for list in company_text:\n",
    "    print(list.company)"
   ]
  },
  {
   "cell_type": "code",
   "execution_count": 77,
   "metadata": {
    "collapsed": true
   },
   "outputs": [],
   "source": []
  },
  {
   "cell_type": "code",
   "execution_count": 79,
   "metadata": {
    "collapsed": true
   },
   "outputs": [],
   "source": []
  },
  {
   "cell_type": "code",
   "execution_count": null,
   "metadata": {
    "collapsed": true
   },
   "outputs": [],
   "source": []
  },
  {
   "cell_type": "code",
   "execution_count": null,
   "metadata": {
    "collapsed": true
   },
   "outputs": [],
   "source": []
  },
  {
   "cell_type": "code",
   "execution_count": null,
   "metadata": {
    "collapsed": true
   },
   "outputs": [],
   "source": []
  },
  {
   "cell_type": "code",
   "execution_count": null,
   "metadata": {
    "collapsed": true
   },
   "outputs": [],
   "source": []
  }
 ],
 "metadata": {
  "kernelspec": {
   "display_name": "Python 3",
   "language": "python",
   "name": "python3"
  },
  "language_info": {
   "codemirror_mode": {
    "name": "ipython",
    "version": 3
   },
   "file_extension": ".py",
   "mimetype": "text/x-python",
   "name": "python",
   "nbconvert_exporter": "python",
   "pygments_lexer": "ipython3",
   "version": "3.6.3"
  }
 },
 "nbformat": 4,
 "nbformat_minor": 2
}
